{
  "nbformat": 4,
  "nbformat_minor": 0,
  "metadata": {
    "colab": {
      "provenance": [],
      "authorship_tag": "ABX9TyPy6Q0V9OQvN6TTIUXz/dOh",
      "include_colab_link": true
    },
    "kernelspec": {
      "name": "python3",
      "display_name": "Python 3"
    },
    "language_info": {
      "name": "python"
    }
  },
  "cells": [
    {
      "cell_type": "markdown",
      "metadata": {
        "id": "view-in-github",
        "colab_type": "text"
      },
      "source": [
        "<a href=\"https://colab.research.google.com/github/ashu7103/LLM---Project-Generation/blob/main/LLM_Project_Generation.ipynb\" target=\"_parent\"><img src=\"https://colab.research.google.com/assets/colab-badge.svg\" alt=\"Open In Colab\"/></a>"
      ]
    },
    {
      "cell_type": "code",
      "source": [
        "import pandas as pd"
      ],
      "metadata": {
        "id": "SuRcMAEvhK4X"
      },
      "execution_count": null,
      "outputs": []
    },
    {
      "cell_type": "code",
      "execution_count": null,
      "metadata": {
        "id": "-XnUBTMFcdE2"
      },
      "outputs": [],
      "source": [
        "# Cell 1 – User Inputs\n",
        "project_name = \"ChatApp\"  # e.g., input(\"Enter project name: \").strip()\n",
        "project_type = \"Java Spring Boot web app\"  # e.g., input(\"Enter project type: \").strip()\n",
        "project_description = \"group chat option with new group chat creation option, websoket implemention, Create view too and good visuals\"  # Optional\n"
      ]
    },
    {
      "cell_type": "code",
      "source": [
        "# Cell 2 – Save Config to JSON\n",
        "import json\n",
        "import os\n",
        "\n",
        "def define_project(project_name, project_type, project_description=\"\"):\n",
        "    config = {\n",
        "        \"project_name\": project_name,\n",
        "        \"project_type\": project_type,\n",
        "        \"description\": project_description,\n",
        "    }\n",
        "\n",
        "    os.makedirs(project_name, exist_ok=True)\n",
        "    config_path = os.path.join(project_name, \"project_config.json\")\n",
        "    with open(config_path, \"w\") as f:\n",
        "        json.dump(config, f, indent=4)\n",
        "\n",
        "    print(f\"✅ Project config saved at: {config_path}\")\n",
        "    return config\n",
        "\n",
        "# Call the function using previously defined variables\n",
        "config = define_project(project_name, project_type, project_description)\n"
      ],
      "metadata": {
        "id": "_5q7azJgcxfD"
      },
      "execution_count": null,
      "outputs": []
    },
    {
      "cell_type": "code",
      "source": [
        "# Cell 1 – System Prompt Template\n",
        "structure_prompt_template = \"\"\"\n",
        "You are a senior software architect. Given the project name and type, generate a complete directory and file structure for this project.\n",
        "Include necessary folders (e.g., src, main, controller, service, utils, resources), and file names such as controllers, services, models, config files, etc.\n",
        "with there location where to arrage them\n",
        "Constraints:\n",
        "- The structure must match the standard conventions of the project type.\n",
        "- Do not generate code, only file and folder names.\n",
        "- Do not generate any comment or extra text\n",
        "\n",
        "Project Name: {project_name}\n",
        "Project Type: {project_type}\n",
        "\"\"\"\n",
        "\n",
        "# Build final prompt\n",
        "structure_prompt = structure_prompt_template.format(\n",
        "    project_name=project_name,\n",
        "    project_type=project_type\n",
        ")\n"
      ],
      "metadata": {
        "id": "Jf_dUDvPdNHe"
      },
      "execution_count": null,
      "outputs": []
    },
    {
      "cell_type": "code",
      "source": [
        "# Cell 2 – LLM call to generate structure using DeepSeek via OpenRouter\n",
        "\n",
        "import requests\n",
        "\n",
        "def generate_structure_from_prompt(prompt, api_key, model=\"deepseek/deepseek-r1-0528:free\"):\n",
        "    url = \"https://openrouter.ai/api/v1/chat/completions\"\n",
        "\n",
        "    headers = {\n",
        "        \"Authorization\": f\"Bearer {api_key}\",\n",
        "        \"Content-Type\": \"application/json\",\n",
        "        \"HTTP-Referer\": \"https://yourapp.com\",  # Optional\n",
        "        \"X-Title\": \"LLMProjectBuilder\"          # Optional\n",
        "    }\n",
        "\n",
        "    payload = {\n",
        "        \"model\": model,\n",
        "        \"messages\": [\n",
        "            {\"role\": \"system\", \"content\": \"You are a helpful coding assistant.\"},\n",
        "            {\"role\": \"user\", \"content\": prompt}\n",
        "        ],\n",
        "        \"temperature\": 0.2\n",
        "    }\n",
        "\n",
        "    response = requests.post(url, headers=headers, json=payload)\n",
        "    response.raise_for_status()\n",
        "    return response.json()['choices'][0]['message']['content']\n",
        "\n",
        "# Usage:\n",
        "# openrouter_api_key = \"your-api-key\"\n",
        "# structure_output = generate_structure_from_prompt(structure_prompt, openrouter_api_key)\n"
      ],
      "metadata": {
        "id": "Hcs-j63gdWTc"
      },
      "execution_count": null,
      "outputs": []
    },
    {
      "cell_type": "code",
      "source": [
        "deepseek_api_key = \"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\"\n",
        "structure_output = generate_structure_from_prompt(structure_prompt, deepseek_api_key)"
      ],
      "metadata": {
        "id": "L71uVngPeuOk"
      },
      "execution_count": null,
      "outputs": []
    },
    {
      "cell_type": "code",
      "source": [
        "def parse_structure_text(structure_text: str) -> list:\n",
        "    import re\n",
        "    lines = structure_text.strip().splitlines()\n",
        "    path_stack = []\n",
        "    result = []\n",
        "\n",
        "    for line in lines:\n",
        "        # Skip empty lines or non-path notes\n",
        "        if not line.strip() or line.strip().startswith(\"###\") or line.strip().startswith(\"Key Structure\"):\n",
        "            continue\n",
        "\n",
        "        # Count tree level (number of │ or ├── or └──)\n",
        "        level = line.count(\"│\") + line.count(\"├\") + line.count(\"└\")\n",
        "\n",
        "        # Clean line\n",
        "        cleaned = re.sub(r\"[│├└─]+\", \"\", line).strip()\n",
        "\n",
        "        # Adjust stack to current level\n",
        "        if level < len(path_stack):\n",
        "            path_stack = path_stack[:level]\n",
        "        elif level > len(path_stack):\n",
        "            # Fill missing levels with placeholder folders if needed\n",
        "            while len(path_stack) < level:\n",
        "                path_stack.append(\"unknown\")\n",
        "\n",
        "        path_stack = path_stack[:level]\n",
        "        path_stack.append(cleaned)\n",
        "\n",
        "        # Join path and store\n",
        "        full_path = \"/\".join(path_stack)\n",
        "        result.append(full_path)\n",
        "\n",
        "    return result\n",
        "\n",
        "# Usage\n",
        "parsed_paths = parse_structure_text(structure_output)  # use the text from your previous DeepSeek response\n",
        "for path in parsed_paths:\n",
        "    print(path)\n"
      ],
      "metadata": {
        "id": "RM6ztPiyiHhZ"
      },
      "execution_count": null,
      "outputs": []
    },
    {
      "cell_type": "code",
      "source": [
        "import os\n",
        "\n",
        "def extract_file_paths_from_structure(path_list: list) -> list:\n",
        "    file_paths = []\n",
        "\n",
        "    for line in path_list:\n",
        "        line = line.strip()\n",
        "        if line == \"\" or line.endswith(\"/\"):\n",
        "            continue  # skip directories\n",
        "        if '.' in os.path.basename(line):\n",
        "            normalized = os.path.normpath(line)\n",
        "            file_paths.append(normalized)\n",
        "\n",
        "    return file_paths\n"
      ],
      "metadata": {
        "id": "zAuF11twe2kb"
      },
      "execution_count": null,
      "outputs": []
    },
    {
      "cell_type": "code",
      "source": [
        "import os\n",
        "\n",
        "def create_files_from_paths(file_paths: list, base_dir: str = \".\"):\n",
        "    for path in file_paths:\n",
        "        full_path = os.path.join(base_dir, path)\n",
        "        os.makedirs(os.path.dirname(full_path), exist_ok=True)\n",
        "        with open(full_path, 'w') as f:\n",
        "            f.write(\"\")  # create empty file\n",
        "    print(f\"✅ Created {len(file_paths)} files under: {os.path.abspath(base_dir)}\")\n"
      ],
      "metadata": {
        "id": "Z0Y6rUXFmKee"
      },
      "execution_count": null,
      "outputs": []
    },
    {
      "cell_type": "code",
      "source": [
        "name_of_directory_where_project= \"chatAPP\""
      ],
      "metadata": {
        "id": "pfyCbd0JBzMd"
      },
      "execution_count": null,
      "outputs": []
    },
    {
      "cell_type": "code",
      "source": [
        "len(parsed_paths)"
      ],
      "metadata": {
        "id": "8INqKNJaCavz"
      },
      "execution_count": null,
      "outputs": []
    },
    {
      "cell_type": "code",
      "source": [
        "\n",
        "file_paths = extract_file_paths_from_structure(parsed_paths)\n",
        "create_files_from_paths(file_paths, base_dir=name_of_directory_where_project)\n"
      ],
      "metadata": {
        "id": "t18zkbSFoTeW"
      },
      "execution_count": null,
      "outputs": []
    },
    {
      "cell_type": "code",
      "source": [
        "file_paths"
      ],
      "metadata": {
        "id": "kZHA_i2gCDoT"
      },
      "execution_count": null,
      "outputs": []
    },
    {
      "cell_type": "code",
      "source": [
        "# !pip uninstall -y openai\n",
        "!pip install openai==0.28\n",
        "import openai\n",
        "import os"
      ],
      "metadata": {
        "id": "ysuaGiNE3oIL"
      },
      "execution_count": null,
      "outputs": []
    },
    {
      "cell_type": "code",
      "source": [
        "# !pip install --upgrade openai openrouter\n"
      ],
      "metadata": {
        "id": "BycW5UX40jOW"
      },
      "execution_count": null,
      "outputs": []
    },
    {
      "cell_type": "code",
      "source": [],
      "metadata": {
        "id": "NVEw8stu4xmc"
      },
      "execution_count": null,
      "outputs": []
    },
    {
      "cell_type": "code",
      "source": [
        "\n",
        "# 🔑 Replace this with your OpenRouter API key\n",
        "openai.api_key = \"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\"\n",
        "openai.api_base = \"https://openrouter.ai/api/v1\"\n",
        "model = \"deepseek/deepseek-r1-0528:free\"  # You can also use mistralai/mixtral-8x7b, etc.\n"
      ],
      "metadata": {
        "id": "YTDDshfxzfRA"
      },
      "execution_count": null,
      "outputs": []
    },
    {
      "cell_type": "code",
      "source": [
        "def generate_code_with_openrouter(prompt, model=\"deepseek/deepseek-r1-0528:free\"):\n",
        "    try:\n",
        "        response = openai.ChatCompletion.create(\n",
        "            model=model,\n",
        "            messages=[\n",
        "                {\"role\": \"system\", \"content\": \"You are a senior Java Spring Boot developer. Generate complete, clean, production-ready code.\"},\n",
        "                {\"role\": \"user\", \"content\": prompt}\n",
        "            ],\n",
        "            temperature=0.2,\n",
        "        )\n",
        "        return response.choices[0].message.content\n",
        "    except Exception as e:\n",
        "        return f\"❌ ERROR: {str(e)}\"\n"
      ],
      "metadata": {
        "id": "qPviid6jzYWC"
      },
      "execution_count": null,
      "outputs": []
    },
    {
      "cell_type": "code",
      "source": [
        "import re\n",
        "for file_path in file_paths:\n",
        "    print(f\"\\n✏️ Generating code for: {file_path}\")\n",
        "\n",
        "    prompt = f\"\"\"Generate full Java code for this file in a Spring Boot Book Rental Application:\n",
        "            File: {file_path}\n",
        "            Make sure it's compatible with other typical files in the same app.\n",
        "            Do not include explanations — only code.\n",
        "            Requirements:\n",
        "\n",
        "            - Do not include unrelated explanations or markdown\n",
        "            - Output only valid Java code for this file\"\"\"\n",
        "\n",
        "    generated_code = generate_code_with_openrouter(prompt)\n",
        "\n",
        "    if \"```\" in generated_code:\n",
        "        # Extract only code between triple backticks\n",
        "        code_blocks = re.findall(r\"```(?:\\w+)?\\n(.*?)```\", generated_code, re.DOTALL)\n",
        "        generated_code = code_blocks[0].strip() if code_blocks else generated_code.strip()\n",
        "\n",
        "    os.makedirs(os.path.dirname(file_path), exist_ok=True)\n",
        "\n",
        "    if \"ERROR\" not in generated_code:\n",
        "        with open(file_path, \"w\") as f:\n",
        "            f.write(generated_code)\n",
        "        print(f\"✅ Code written to: {file_path}\")\n",
        "    else:\n",
        "        print(generated_code)\n"
      ],
      "metadata": {
        "id": "dY5KUqB32N48"
      },
      "execution_count": null,
      "outputs": []
    },
    {
      "cell_type": "code",
      "source": [
        "import shutil\n",
        "\n",
        "def zip_project_folder(folder_path, output_zip_path):\n",
        "    shutil.make_archive(output_zip_path, 'zip', folder_path)\n",
        "    print(f\"📦 Project zipped at: {output_zip_path}.zip\")\n"
      ],
      "metadata": {
        "id": "4Iyj1xREFp2c"
      },
      "execution_count": null,
      "outputs": []
    },
    {
      "cell_type": "code",
      "source": [
        "# Zip the BookRentalApp directory\n",
        "zip_project_folder(\"BookRentalApp\", \"BookRentalApp_output\")\n"
      ],
      "metadata": {
        "id": "J5BKonX3GAHs"
      },
      "execution_count": null,
      "outputs": []
    }
  ]
}